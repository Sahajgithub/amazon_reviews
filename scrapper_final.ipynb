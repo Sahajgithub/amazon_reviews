{
  "nbformat": 4,
  "nbformat_minor": 0,
  "metadata": {
    "colab": {
      "name": "scrapper.ipynb",
      "version": "0.3.2",
      "provenance": []
    },
    "kernelspec": {
      "name": "python3",
      "display_name": "Python 3"
    }
  },
  "cells": [
    {
      "metadata": {
        "id": "i1PmrLxRx9bk",
        "colab_type": "code",
        "outputId": "2a7abbfe-6d03-4cc5-f18c-336324956bd7",
        "colab": {
          "base_uri": "https://localhost:8080/",
          "height": 122
        }
      },
      "cell_type": "code",
      "source": [
        "from google.colab import drive\n",
        "drive.mount('/content/drive')"
      ],
      "execution_count": 1,
      "outputs": [
        {
          "output_type": "stream",
          "text": [
            "Go to this URL in a browser: https://accounts.google.com/o/oauth2/auth?client_id=947318989803-6bn6qk8qdgf4n4g3pfee6491hc0brc4i.apps.googleusercontent.com&redirect_uri=urn%3Aietf%3Awg%3Aoauth%3A2.0%3Aoob&scope=email%20https%3A%2F%2Fwww.googleapis.com%2Fauth%2Fdocs.test%20https%3A%2F%2Fwww.googleapis.com%2Fauth%2Fdrive%20https%3A%2F%2Fwww.googleapis.com%2Fauth%2Fdrive.photos.readonly%20https%3A%2F%2Fwww.googleapis.com%2Fauth%2Fpeopleapi.readonly&response_type=code\n",
            "\n",
            "Enter your authorization code:\n",
            "··········\n",
            "Mounted at /content/drive\n"
          ],
          "name": "stdout"
        }
      ]
    },
    {
      "metadata": {
        "id": "mruqPKANyFUY",
        "colab_type": "code",
        "outputId": "42ca9570-67d2-4429-bfac-93211a79ed90",
        "colab": {
          "base_uri": "https://localhost:8080/",
          "height": 34
        }
      },
      "cell_type": "code",
      "source": [
        "%cd '/content/drive/My Drive'"
      ],
      "execution_count": 30,
      "outputs": [
        {
          "output_type": "stream",
          "text": [
            "/content/drive/My Drive\n"
          ],
          "name": "stdout"
        }
      ]
    },
    {
      "metadata": {
        "id": "8VlJyq_cy1xb",
        "colab_type": "code",
        "colab": {}
      },
      "cell_type": "code",
      "source": [
        "import bs4\n",
        "import requests\n",
        "import re\n",
        "import os\n",
        "import sys\n",
        "\n",
        "def get_profile_details(profile_tag):\n",
        "    profile_url = None\n",
        "    if profile_tag['href']:\n",
        "        profile_url = 'https://www.amazon.in'+profile_tag['href']\n",
        "    customer_name_tag = profile_tag.find('span', class_='a-profile-name')\n",
        "    customer_name = None\n",
        "    if customer_name_tag:\n",
        "        customer_name = customer_name_tag.getText()\n",
        "    return {'profile_url':profile_url, 'customer_name':customer_name}\n",
        "\n",
        "def get_review_from_tag(review_tag):\n",
        "    data_dict = dict()\n",
        "    profile_tag = review_tag.find('a', class_='a-profile')\n",
        "    if profile_tag:\n",
        "        data_dict['customer_profile'] = get_profile_details(profile_tag)\n",
        "    \n",
        "    review_rating_tag = review_tag.find('i', class_='review-rating')\n",
        "    if review_rating_tag:\n",
        "        data_dict['review_rating'] = float(review_rating_tag.getText()[:2])\n",
        "    \n",
        "    review_title_tag = review_tag.find('a',  class_='review-title')\n",
        "    if review_title_tag:\n",
        "        data_dict['review_title'] = review_title_tag.getText().replace('\\n', '  ')\n",
        "    \n",
        "    review_date_tag = review_tag.find('span', class_='review-date')\n",
        "    if review_date_tag:\n",
        "        data_dict['review_date'] = review_date_tag.getText()\n",
        "    \n",
        "    review_text_tag = review_tag.find('span', class_='review-text')\n",
        "    if review_text_tag:\n",
        "        data_dict['review_text'] = review_text_tag.getText().replace('\\n', '  ')\n",
        "    \n",
        "    return data_dict\n",
        "\n",
        "\n",
        "def get_reviews(url):\n",
        "    soup = bs4.BeautifulSoup(requests.get(url).text, 'lxml')\n",
        "    review_tags = soup.find_all('div', id=re.compile('^customer_review'))\n",
        "    review_data =list()\n",
        "    for review_tag in review_tags:\n",
        "        review_data.append(get_review_from_tag(review_tag))\n",
        "    return review_data\n",
        "\n",
        "\n",
        "\n",
        "\n",
        "#READ TECHNICAL DETAILS\n",
        "\n",
        "def read_tbody(tbody_tag):\n",
        "    data = dict()\n",
        "    for tr in tbody_tag.find_all('tr'):\n",
        "        if tr.find('td', class_='label'):\n",
        "            data[tr.find('td', class_='label').getText().replace('\\n', '')] = tr.find('td', class_='value').getText().replace('\\n', '')\n",
        "    return data\n",
        "\n",
        "def get_techDetails(soup):\n",
        "    prodDetails_tag = soup.find('div', id='prodDetails')\n",
        "    techDetails_tag = prodDetails_tag.find('div', class_='techD')\n",
        "    tech_details = read_tbody(techDetails_tag.table.tbody)\n",
        "    return tech_details\n",
        "\n",
        "\n",
        "\n",
        "# PRODUCT DESCRIPTION\n",
        "\n",
        "def get_prodDescription(soup):\n",
        "    data = dict()\n",
        "    disclaim_tag = soup.find('div', class_='disclaim')\n",
        "    if disclaim_tag:\n",
        "        for row in disclaim_tag.text.replace('\\n', '').strip().split('|'):\n",
        "            data[row.split(':')[0].strip()] = row.split(':')[0].strip()\n",
        "    return data\n",
        "\n",
        "#PRODUCT TITLE\n",
        "def get_prodTitle(soup):\n",
        "    prodTitle=soup.find('div', id='titleSection').text.replace('\\n', '').strip()\n",
        "    return prodTitle\n",
        "\n",
        "def get_customerReviews(soup):\n",
        "    avg_customer_reviews_tag = soup.find('div', id='averageCustomerReviews')\n",
        "    number_of_reviews = avg_customer_reviews_tag.find('span', id='acrCustomerReviewText').text.replace('\\n', '').strip()\n",
        "    avg_customer_review = avg_customer_reviews_tag.find('span', id='acrPopover').text.replace('\\n', '').strip()\n",
        "    return {'number_of_reviews':number_of_reviews, 'avg_customer_review':avg_customer_review}\n",
        "\n",
        "# PRODUCT DEAL PRICE\n",
        "def get_price(soup):\n",
        "    p_=soup.find('tr',id=re.compile('priceblock_dealprice')).text.replace('\\n', '').strip().split(':')\n",
        "    return {p_[0]: re.search('([0-9,]+)\\\\.', p_[1]).group(1).replace(',', '')}\n",
        "\n",
        "# GET PRODUCT IMAGE URL\n",
        "def get_imageUrl(soup):\n",
        "    return soup.find('img', class_='a-dynamic-image a-stretch-vertical')['src']\n",
        "\n",
        "# SCRAP PRODUCT DETAILS\n",
        "def scrap_prodDetails(soup):\n",
        "    data = dict()\n",
        "    data['Title']=get_prodTitle(soup)\n",
        "    data['price']=get_price(soup)\n",
        "    data['image']={'url':get_imageUrl(soup)}\n",
        "    data['reviews']=get_customerReviews(soup)\n",
        "    data['product_description']=get_prodDescription(soup)\n",
        "    data['technical_details']=get_techDetails(soup)\n",
        "    return data\n",
        "\n",
        "  \n",
        "def print_progress(count):\n",
        "  # Percentage completion.\n",
        "  # Status-message.\n",
        "  # Note the \\r which means the line should overwrite itself.\n",
        "  msg = \"\\r- Progress: {}\".format(count)\n",
        "  # Print it.\n",
        "  sys.stdout.write(msg)\n",
        "  sys.stdout.flush()"
      ],
      "execution_count": 0,
      "outputs": []
    },
    {
      "metadata": {
        "id": "_eQDaQeKzcHO",
        "colab_type": "code",
        "colab": {}
      },
      "cell_type": "code",
      "source": [
        "urls = {'most_recent':\n",
        "'https://www.amazon.in/OnePlus-Midnight-Black-128GB-Storage/product-reviews/B07DJHY82F/ref=cm_cr_arp_d_viewopt_srt?ie=UTF8&reviewerType=all_reviews&sortBy=recent&pageNumber={}'\n",
        ",\n",
        "'top_rated':\n",
        "'https://www.amazon.in/OnePlus-Midnight-Black-128GB-Storage/product-reviews/B07DJHY82F/ref=cm_cr_arp_d_viewopt_srt?ie=UTF8&reviewerType=all_reviews&sortBy=helpful&pageNumber={}'\n",
        ",\n",
        "'battery_life':\n",
        "{    'most_recent':\n",
        "    'https://www.amazon.in/OnePlus-Midnight-Black-128GB-Storage/product-reviews/B07DJHY82F/ref=cm_cr_arp_d_viewopt_srt?ie=UTF8&filterByKeyword=battery+life&sortBy=recent&pageNumber={}#reviews-filter-bar'\n",
        ",\n",
        "    'top_rated':\n",
        "    'https://www.amazon.in/OnePlus-Midnight-Black-128GB-Storage/product-reviews/B07DJHY82F/ref=cm_cr_arp_d_viewopt_srt?ie=UTF8&filterByKeyword=battery+life&sortBy=helpful&pageNumber={}#reviews-filter-bar'\n",
        "},\n",
        " \n",
        "'picture_quality':\n",
        " {   'top_rated':\n",
        "    'https://www.amazon.in/OnePlus-Midnight-Black-128GB-Storage/product-reviews/B07DJHY82F/ref=cm_cr_arp_d_viewopt_srt?ie=UTF8&filterByKeyword=picture+quality&sortBy=helpful&pageNumber={}#reviews-filter-bar'\n",
        ",\n",
        "    'most_recent':\n",
        "    'https://www.amazon.in/OnePlus-Midnight-Black-128GB-Storage/product-reviews/B07DJHY82F/ref=cm_cr_arp_d_viewopt_srt?ie=UTF8&filterByKeyword=picture+quality&sortBy=recent&pageNumber={}#reviews-filter-bar'\n",
        "},\n",
        "\n",
        "'value_for_money':\n",
        "{\n",
        "    'most_recent':'https://www.amazon.in/OnePlus-Midnight-Black-128GB-Storage/product-reviews/B07DJHY82F/ref=cm_cr_arp_d_viewopt_srt?ie=UTF8&filterByKeyword=value+for+money&sortBy=recent&pageNumber={}#reviews-filter-bar'\n",
        "},\n",
        "\n",
        "'sound_quality':\n",
        "{\n",
        "    'most_recent':'https://www.amazon.in/OnePlus-Midnight-Black-128GB-Storage/product-reviews/B07DJHY82F/ref=cm_cr_arp_d_viewopt_srt?ie=UTF8&filterByKeyword=sound+quality&sortBy=recent&pageNumber={}#reviews-filter-bar'\n",
        "},\n",
        "\n",
        "'fingerprint':\n",
        "{\n",
        "    'most_recent':'https://www.amazon.in/OnePlus-Midnight-Black-128GB-Storage/product-reviews/B07DJHY82F/ref=cm_cr_arp_d_viewopt_srt?ie=UTF8&filterByKeyword=fingerprint&sortBy=recent&pageNumber={}#reviews-filter-bar'\n",
        "}   \n",
        "        \n",
        "}"
      ],
      "execution_count": 0,
      "outputs": []
    },
    {
      "metadata": {
        "id": "GdytT6sn0_Qw",
        "colab_type": "code",
        "colab": {}
      },
      "cell_type": "code",
      "source": [
        "import json"
      ],
      "execution_count": 0,
      "outputs": []
    },
    {
      "metadata": {
        "id": "jHeezc5BwRSv",
        "colab_type": "code",
        "colab": {}
      },
      "cell_type": "code",
      "source": [
        "url_in = \"https://www.amazon.in/dp/B07DJHY82F/ref=gbph_img_m-5_d182_b23b14bf?smid=A23AODI1X2CEAE&pf_rd_p=a3a8dc53-aeed-4aa1-88bb-72ce9ddad182&pf_rd_s=merchandised-search-5&pf_rd_t=101&pf_rd_i=1389401031&pf_rd_m=A1VBAL9TL5WCBF&pf_rd_r=P3FSQH2KEB3B5QQ1NQD5\"\n",
        "soup = bs4.BeautifulSoup(requests.get(url_in).text,\"lxml\")\n",
        "prod_details = scrap_prodDetails(soup)"
      ],
      "execution_count": 0,
      "outputs": []
    },
    {
      "metadata": {
        "id": "kFINKo2BxBpl",
        "colab_type": "code",
        "colab": {}
      },
      "cell_type": "code",
      "source": [
        "with open('product_details.json', 'w') as f:\n",
        "  json.dump(prod_details, f)\n",
        "  "
      ],
      "execution_count": 0,
      "outputs": []
    },
    {
      "metadata": {
        "id": "xZ1u2aK31iIb",
        "colab_type": "code",
        "outputId": "f96be693-58cf-4b80-be6a-d96fb930adb5",
        "colab": {
          "base_uri": "https://localhost:8080/",
          "height": 34
        }
      },
      "cell_type": "code",
      "source": [
        "import time\n",
        "not_found = list()\n",
        "found = []\n",
        "with open('most_recent_old_1200.json', 'w') as f:\n",
        "    i = 1\n",
        "    j = 0\n",
        "    while j < 100 :\n",
        "      data = get_reviews(urls['most_recent'].format(i))\n",
        "      not_found.append(i)      \n",
        "      i+=1\n",
        "      for d in data:\n",
        "        found.append(d)\n",
        "        j+=1\n",
        "        print_progress(j)\n",
        "    json.dump(found, f)"
      ],
      "execution_count": 24,
      "outputs": [
        {
          "output_type": "stream",
          "text": [
            "- Progress: 100"
          ],
          "name": "stdout"
        }
      ]
    },
    {
      "metadata": {
        "id": "vk5__dD5RZya",
        "colab_type": "code",
        "colab": {
          "base_uri": "https://localhost:8080/",
          "height": 34
        },
        "outputId": "99dac73f-3a0a-4df9-d02e-5c61143868d6"
      },
      "cell_type": "code",
      "source": [
        "not_found = list()\n",
        "found = []\n",
        "with open('batterylife.json','w') as f:\n",
        "    i = 1\n",
        "    j = 0\n",
        "    while j < 100 :\n",
        "      data = get_reviews(urls['battery_life']['most_recent'].format(i))\n",
        "      not_found.append(i)      \n",
        "      i+=1\n",
        "      for d in data:\n",
        "        found.append(d)\n",
        "        j+=1\n",
        "        print_progress(j)\n",
        "    json.dump(found, f)"
      ],
      "execution_count": 25,
      "outputs": [
        {
          "output_type": "stream",
          "text": [
            "- Progress: 100"
          ],
          "name": "stdout"
        }
      ]
    },
    {
      "metadata": {
        "id": "PHo2lw71RZ_E",
        "colab_type": "code",
        "colab": {
          "base_uri": "https://localhost:8080/",
          "height": 34
        },
        "outputId": "2270bddd-02cd-4258-8c5a-e385d0228261"
      },
      "cell_type": "code",
      "source": [
        "not_found = list()\n",
        "found = []\n",
        "with open('picturequality.json','w') as f:\n",
        "    i = 1\n",
        "    j = 0\n",
        "    while j < 100 :\n",
        "      data = get_reviews(urls['picture_quality']['most_recent'].format(i))\n",
        "      not_found.append(i)      \n",
        "      i+=1\n",
        "      for d in data:\n",
        "        found.append(d)\n",
        "        j+=1\n",
        "        print_progress(j)\n",
        "    json.dump(found, f)"
      ],
      "execution_count": 26,
      "outputs": [
        {
          "output_type": "stream",
          "text": [
            "- Progress: 100"
          ],
          "name": "stdout"
        }
      ]
    },
    {
      "metadata": {
        "id": "un6sKLfnRaCX",
        "colab_type": "code",
        "colab": {
          "base_uri": "https://localhost:8080/",
          "height": 34
        },
        "outputId": "b57555f7-43e2-4777-a9e5-92dc7cfad1e7"
      },
      "cell_type": "code",
      "source": [
        "not_found = list()\n",
        "found = []\n",
        "with open('soundquality.json','w') as f:\n",
        "    i = 1\n",
        "    j = 0\n",
        "    while j < 100 :\n",
        "      data = get_reviews(urls['sound_quality']['most_recent'].format(i))\n",
        "      not_found.append(i)      \n",
        "      i+=1\n",
        "      for d in data:\n",
        "        found.append(d)\n",
        "        j+=1\n",
        "        print_progress(j)\n",
        "    json.dump(found, f)"
      ],
      "execution_count": 27,
      "outputs": [
        {
          "output_type": "stream",
          "text": [
            "- Progress: 100"
          ],
          "name": "stdout"
        }
      ]
    },
    {
      "metadata": {
        "id": "y2iEDbewRaFt",
        "colab_type": "code",
        "colab": {
          "base_uri": "https://localhost:8080/",
          "height": 34
        },
        "outputId": "4e5b292d-b5d1-4d61-8f47-16f961f98b20"
      },
      "cell_type": "code",
      "source": [
        "not_found = list()\n",
        "found = []\n",
        "with open('fingerprint.json','w') as f:\n",
        "    i = 1\n",
        "    j = 0\n",
        "    while j < 100 :\n",
        "      data = get_reviews(urls['fingerprint']['most_recent'].format(i))\n",
        "      not_found.append(i)      \n",
        "      i+=1\n",
        "      for d in data:\n",
        "        found.append(d)\n",
        "        j+=1\n",
        "        print_progress(j)\n",
        "    json.dump(found, f)"
      ],
      "execution_count": 28,
      "outputs": [
        {
          "output_type": "stream",
          "text": [
            "- Progress: 100"
          ],
          "name": "stdout"
        }
      ]
    },
    {
      "metadata": {
        "id": "S7dGnncnTLhm",
        "colab_type": "code",
        "colab": {
          "base_uri": "https://localhost:8080/",
          "height": 34
        },
        "outputId": "4d69dc24-7cbe-4578-9efd-907c0a3265cb"
      },
      "cell_type": "code",
      "source": [
        "not_found = list()\n",
        "found = []\n",
        "with open('valueofmoney.json','w') as f:\n",
        "    i = 1\n",
        "    j = 0\n",
        "    while j < 100 :\n",
        "      data = get_reviews(urls['value_for_money']['most_recent'].format(i))\n",
        "      not_found.append(i)      \n",
        "      i+=1\n",
        "      for d in data:\n",
        "        found.append(d)\n",
        "        j+=1\n",
        "        print_progress(j)\n",
        "    json.dump(found, f)"
      ],
      "execution_count": 29,
      "outputs": [
        {
          "output_type": "stream",
          "text": [
            "- Progress: 100"
          ],
          "name": "stdout"
        }
      ]
    },
    {
      "metadata": {
        "id": "KrfWjQqYTLkr",
        "colab_type": "code",
        "colab": {}
      },
      "cell_type": "code",
      "source": [
        ""
      ],
      "execution_count": 0,
      "outputs": []
    }
  ]
}
